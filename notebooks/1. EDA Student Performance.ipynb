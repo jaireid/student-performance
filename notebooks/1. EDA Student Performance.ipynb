{
 "cells": [
  {
   "cell_type": "markdown",
   "metadata": {},
   "source": [
    "## Student Performance"
   ]
  },
  {
   "cell_type": "markdown",
   "metadata": {},
   "source": [
    "#### Life Cycle of Machine Learning Project\n",
    "\n",
    "- Understanding the Problem Statement\n",
    "- Data Collection\n",
    "- Data Checks\n",
    "- Exploratory Data Analysis\n",
    "- Data Pre-Processing\n",
    "- Model Training\n",
    "- Choose Best Model"
   ]
  },
  {
   "cell_type": "markdown",
   "metadata": {},
   "source": [
    "### 1. Problem Statement\n",
    "- This project aims to predict how a student's performance in math (math scores) is influenced by various variables, including student grades, demographics, social factors, and school-related features."
   ]
  },
  {
   "cell_type": "markdown",
   "metadata": {},
   "source": [
    "### 2. Data Collection\n",
    "- Dataset Source - https://www.kaggle.com/datasets/henryshan/student-performance-prediction"
   ]
  },
  {
   "cell_type": "markdown",
   "metadata": {},
   "source": [
    "#### 2.1 Import Data and Required Packages"
   ]
  },
  {
   "cell_type": "code",
   "execution_count": 3,
   "metadata": {},
   "outputs": [
    {
     "data": {
      "text/plain": [
       "(395, 34)"
      ]
     },
     "execution_count": 3,
     "metadata": {},
     "output_type": "execute_result"
    }
   ],
   "source": [
    "import numpy as np\n",
    "import pandas as pd\n",
    "import seaborn as sns\n",
    "import matplotlib.pyplot as plt\n",
    "%matplotlib inline\n",
    "import warnings\n",
    "warnings.filterwarnings('ignore')\n",
    "\n",
    "df = pd.read_csv('../data/student-math.csv')\n",
    "df.head()\n",
    "df.shape"
   ]
  },
  {
   "cell_type": "markdown",
   "metadata": {},
   "source": [
    "#### 2.2 Dataset information"
   ]
  },
  {
   "cell_type": "markdown",
   "metadata": {},
   "source": [
    "- school : student's school (binary: 'GP' - Gabriel Pereira or 'MS' - Mousinho da Silveira)\n",
    "- sex : student's sex (binary: 'F' - female or 'M' - male)\n",
    "- age : student's age (numeric: from 15 to 22)\n",
    "- address : student's home address type (binary: 'U' - urban or 'R' - rural)\n",
    "- famsize : family size (binary: 'LE3' - less or equal to 3 or 'GT3' - greater than 3)\n",
    "- Pstatus : parent's cohabitation status (binary: 'T' - living together or 'A' - apart)\n",
    "- Medu : mother's education (numeric: 0 - none, 1 - primary education (4th grade), 2 – 5th to 9th grade, 3 – secondary education or 4 – higher education)\n",
    "- Fedu : father's education (numeric: 0 - none, 1 - primary education (4th grade), 2 – 5th to 9th grade, 3 – secondary education or 4 – higher education)\n",
    "- Mjob : mother's job (nominal: 'teacher', 'health' care related, civil 'services' (e.g. administrative or police), 'at_home' or 'other')\n",
    "- Fjob : father's job (nominal: 'teacher', 'health' care related, civil 'services' (e.g. administrative or police), 'at_home' or 'other')\n",
    "- reason : reason to choose this school (nominal: close to 'home', school 'reputation', 'course' preference or 'other')\n",
    "- guardian : student's guardian (nominal: 'mother', 'father' or 'other')\n",
    "- traveltime : home to school travel time (numeric: 1 - <15 min., 2 - 15 to 30 min., 3 - 30 min. to 1 hour, or 4 - >1 hour)\n",
    "- studytime\t: weekly study time (numeric: 1 - <2 hours, 2 - 2 to 5 hours, 3 - 5 to 10 hours, or 4 - >10 hours)\n",
    "- failures : number of past class failures (numeric: n if 1<=n<3, else 4)\n",
    "- schoolsup\t: extra educational support (binary: yes or no)\n",
    "- famsup : family educational support (binary: yes or no)\n",
    "- paid : extra paid classes within the course subject (Math or Portuguese) (binary: yes or no)\n",
    "- activities : extra-curricular activities (binary: yes or no)\n",
    "- nursery : attended nursery school (binary: yes or no)\n",
    "- higher : wants to take higher education (binary: yes or no)\n",
    "- internet : Internet access at home (binary: yes or no)\n",
    "- romantic : with a romantic relationship (binary: yes or no)\n",
    "- famrel : quality of family relationships (numeric: from 1 - very bad to 5 - excellent)\n",
    "- freetime : free time after school (numeric: from 1 - very low to 5 - very high)\n",
    "- goout : going out with friends (numeric: from 1 - very low to 5 - very high)\n",
    "- Dalc : workday alcohol consumption (numeric: from 1 - very low to 5 - very high)\n",
    "- Walc : weekend alcohol consumption (numeric: from 1 - very low to 5 - very high)\n",
    "- health : current health status (numeric: from 1 - very bad to 5 - very good)\n",
    "- absences : number of school absences (numeric: from 0 to 93)\n",
    "- G1 : first period grade (numeric: from 0 to 20)\n",
    "- G2 : second period grade (numeric: from 0 to 20)\n",
    "- G3 : final grade (numeric: from 0 to 20, output target)"
   ]
  }
 ],
 "metadata": {
  "kernelspec": {
   "display_name": "base",
   "language": "python",
   "name": "python3"
  },
  "language_info": {
   "codemirror_mode": {
    "name": "ipython",
    "version": 3
   },
   "file_extension": ".py",
   "mimetype": "text/x-python",
   "name": "python",
   "nbconvert_exporter": "python",
   "pygments_lexer": "ipython3",
   "version": "3.10.9"
  }
 },
 "nbformat": 4,
 "nbformat_minor": 2
}
